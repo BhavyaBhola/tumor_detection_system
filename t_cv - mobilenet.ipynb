{
 "cells": [
  {
   "cell_type": "markdown",
   "metadata": {},
   "source": [
    "# Brain tumor detection using tensorflow and opencv"
   ]
  },
  {
   "cell_type": "code",
   "execution_count": null,
   "metadata": {},
   "outputs": [],
   "source": [
    "# importing libraries\n",
    "\n",
    "import os\n",
    "import tensorflow as tf\n",
    "from keras import layers\n",
    "from keras import Model\n",
    "from keras.applications.mobilenet_v2 import MobileNetV2\n",
    "import numpy as np\n",
    "import cv2\n",
    "from tqdm import tqdm\n",
    "from sklearn.model_selection import train_test_split"
   ]
  },
  {
   "cell_type": "code",
   "execution_count": null,
   "metadata": {},
   "outputs": [],
   "source": [
    "# saving the location of the base directory\n",
    "\n",
    "base_dir = r\"C:\\Users\\91976\\Desktop\\programming\\AI and Ml\\projects\\survival predicton\\Tumor\""
   ]
  },
  {
   "cell_type": "code",
   "execution_count": null,
   "metadata": {},
   "outputs": [],
   "source": [
    "# storing the location of the training  and testing directories \n",
    "\n",
    "test_dir = f'{base_dir}\\images\\Testing'\n",
    "train_dir = f\"{base_dir}\\images\\Training\"\n",
    "\n",
    "train_glioma_tumor_dir = f'{train_dir}\\glioma_tumor'\n",
    "train_meningioma_tumor_dir = f'{train_dir}\\meningioma_tumor'\n",
    "train_no_tumor_dir = fr'{train_dir}\\no_tumor'\n",
    "train_pituitary_tumor_dir = f'{train_dir}\\pituitary_tumor'\n",
    "\n",
    "\n",
    "test_glioma_tumor_dir = f'{test_dir}\\glioma_tumor'\n",
    "test_meningioma_tumor_dir = f'{test_dir}\\meningioma_tumor'\n",
    "test_no_tumor_dir = fr\"{test_dir}\\no_tumor\"\n",
    "test_pituitary_tumor_dir = f'{test_dir}\\pituitary_tumor'\n",
    "\n"
   ]
  },
  {
   "cell_type": "code",
   "execution_count": null,
   "metadata": {},
   "outputs": [],
   "source": [
    "\n",
    "\n",
    "\n",
    "\n",
    "\n",
    "labels = ['glioma_tumor','no_tumor','meningioma_tumor','pituitary_tumor']\n",
    "\n",
    "\n",
    "X_train = []\n",
    "y_train = []\n",
    "\n",
    "\n",
    "\n",
    "image_size = 224\n",
    "for i in labels:\n",
    "    folderPath = f\"{train_dir}\\{i}\"\n",
    "    for j in tqdm(os.listdir(folderPath)):\n",
    "        img = cv2.imread(os.path.join(folderPath,j))\n",
    "        img = cv2.resize(img,(image_size, image_size))\n",
    "        X_train.append(img)\n",
    "        y_train.append(i)\n",
    "       \n",
    "for i in labels:\n",
    "    folderPath = f\"{test_dir}\\{i}\"\n",
    "    for j in tqdm(os.listdir(folderPath)):\n",
    "        img = cv2.imread(os.path.join(folderPath,j))\n",
    "        img = cv2.resize(img,(image_size,image_size))\n",
    "        X_train.append(img)\n",
    "        y_train.append(i)\n",
    "\n",
    "\n",
    "        \n",
    "X_train = np.array(X_train)\n",
    "y_train = np.array(y_train)\n",
    "\n",
    "print(X_train.shape)"
   ]
  },
  {
   "cell_type": "code",
   "execution_count": null,
   "metadata": {},
   "outputs": [],
   "source": [
    "# spittting the data into test and train for validation\n",
    "\n",
    "X_train,X_test,y_train,y_test = train_test_split(X_train,y_train, test_size=0.1,random_state=101)\n",
    "\n",
    "\n",
    "y_train_new = []\n",
    "for i in y_train:\n",
    "    y_train_new.append(labels.index(i))\n",
    "    \n",
    "y_train = y_train_new\n",
    "y_train = tf.keras.utils.to_categorical(y_train)\n",
    "\n",
    "\n",
    "y_test_new = []\n",
    "for i in y_test:\n",
    "    y_test_new.append(labels.index(i))\n",
    "y_test = y_test_new\n",
    "y_test = tf.keras.utils.to_categorical(y_test)\n",
    "\n",
    "\n",
    "\n",
    "print(X_test.shape)\n",
    "print(X_train.shape)\n",
    "print(y_train.shape)\n",
    "print(y_test.shape)\n",
    "\n"
   ]
  },
  {
   "cell_type": "markdown",
   "metadata": {},
   "source": [
    "# importing pre trained model InceptionV3"
   ]
  },
  {
   "cell_type": "code",
   "execution_count": null,
   "metadata": {},
   "outputs": [],
   "source": [
    "\n",
    "pre_model = MobileNetV2(\n",
    "        input_shape=(224,224,3),\n",
    "        weights='imagenet',\n",
    "        include_top=False\n",
    ")       \n",
    "\n",
    "\n",
    "\n",
    "\n",
    "'''\n",
    "pre_model = InceptionV3(\n",
    "        input_shape=(224,224,3),\n",
    "        weights='imagenet',   \n",
    "        include_top=False,\n",
    "            \n",
    ")\n",
    "'''\n",
    "\n",
    "'''\n",
    "pre_model = VGG16(\n",
    "        input_shape=(224,224,3),\n",
    "        weights='imagenet',\n",
    "        include_top=False,\n",
    "        pooling='max'\n",
    ")\n",
    "'''\n",
    "\n",
    "# freezing the layers \n",
    "\n",
    "for layers in pre_model.layers:\n",
    "    layers.trainable=False\n",
    "\n",
    "\n",
    "last_output = pre_model.layers[-2].output   \n",
    "\n",
    "'''\n",
    "# using the mixed7 layer for output of inceptionv3\n",
    "\n",
    "last_layer = pre_model.get_layer('mixed7')\n",
    "last_output = last_layer.output\n",
    "'''  "
   ]
  },
  {
   "cell_type": "markdown",
   "metadata": {},
   "source": [
    "# Model formation and training"
   ]
  },
  {
   "cell_type": "code",
   "execution_count": null,
   "metadata": {},
   "outputs": [],
   "source": [
    "from keras.optimizers import Adam,RMSprop\n",
    "\n",
    "x = tf.keras.layers.Rescaling(scale=1./255)(last_output)\n",
    "x = tf.keras.layers.Flatten()(x)\n",
    "x = tf.keras.layers.Dense(128,activation='relu')(x)\n",
    "x = tf.keras.layers.BatchNormalization()(x)\n",
    "x = tf.keras.layers.Dense(64,activation='relu')(x)\n",
    "x = tf.keras.layers.BatchNormalization()(x)\n",
    "x = tf.keras.layers.Dense(32,activation='relu')(x)\n",
    "x = tf.keras.layers.BatchNormalization()(x)\n",
    "x = tf.keras.layers.Dense(16,activation='relu')(x)\n",
    "x = tf.keras.layers.BatchNormalization()(x)\n",
    "output = tf.keras.layers.Dense(4,activation='softmax')(x)\n",
    "\n",
    "model = Model(pre_model.input,output)\n",
    "\n",
    "model.compile(optimizer=Adam(learning_rate=0.001),\n",
    "                loss = 'categorical_crossentropy',\n",
    "                metrics=['accuracy']\n",
    ")"
   ]
  },
  {
   "cell_type": "code",
   "execution_count": null,
   "metadata": {},
   "outputs": [],
   "source": [
    "# stopping the training as soon as the val_accuracy reaches 0.95\n",
    "\n",
    "\n",
    "class myCallbacks(tf.keras.callbacks.Callback):\n",
    "    def on_epoch_end(self,epoch,logs={}):\n",
    "        if(logs.get('val_accuracy')>0.92):\n",
    "            self.model.stop_training = True"
   ]
  },
  {
   "cell_type": "markdown",
   "metadata": {},
   "source": [
    "training the model"
   ]
  },
  {
   "cell_type": "code",
   "execution_count": null,
   "metadata": {},
   "outputs": [],
   "source": [
    "\n",
    "\n",
    "\n",
    "callback = myCallbacks()\n",
    "\n",
    "\n",
    " \n",
    "\n",
    "model.fit(\n",
    "\n",
    "    X_train,y_train, batch_size=32,\n",
    "    epochs=10,\n",
    "    validation_data=(X_test,y_test),\n",
    "    steps_per_epoch = len(X_train) / 32 ,\n",
    "    callbacks=[callback]\n",
    ")"
   ]
  },
  {
   "cell_type": "markdown",
   "metadata": {},
   "source": [
    "# Saving the model"
   ]
  },
  {
   "cell_type": "code",
   "execution_count": null,
   "metadata": {},
   "outputs": [],
   "source": [
    "#model.save('tumor_mobilenet.h5')"
   ]
  },
  {
   "cell_type": "code",
   "execution_count": null,
   "metadata": {},
   "outputs": [],
   "source": [
    "\n",
    "'''\n",
    "tf_model_file = \"tumor_mobilenet.tflite\"\n",
    "tf_lite_converter = tf.lite.TFLiteConverter.from_keras_model(model)\n",
    "tflite_model = tf_lite_converter.convert()\n",
    "\n",
    "with open(tf_model_file,'wb') as file:\n",
    "    file.write(tflite_model)\n",
    "''' "
   ]
  },
  {
   "cell_type": "markdown",
   "metadata": {},
   "source": [
    "Testing"
   ]
  },
  {
   "cell_type": "code",
   "execution_count": null,
   "metadata": {},
   "outputs": [],
   "source": [
    "t = []\n",
    "\n",
    "img = cv2.imread(r\"C:\\Users\\91976\\Desktop\\programming\\AI and Ml\\projects\\survival predicton\\Tumor\\images\\Testing\\meningioma_tumor\\image(1).jpg\")\n",
    "\n",
    "img = cv2.resize(img,(224,224))\n",
    "t.append(img)\n",
    "\n",
    "t_p = np.array(t)"
   ]
  },
  {
   "cell_type": "code",
   "execution_count": null,
   "metadata": {},
   "outputs": [],
   "source": [
    "\n",
    "pred = model.predict(t_p)"
   ]
  },
  {
   "cell_type": "code",
   "execution_count": null,
   "metadata": {},
   "outputs": [],
   "source": [
    "print(pred)\n",
    "predictions = np.argmax(pred,1)\n"
   ]
  },
  {
   "cell_type": "code",
   "execution_count": null,
   "metadata": {},
   "outputs": [],
   "source": [
    "'''\n",
    "labels = {\n",
    "\n",
    "    'glioma_tumor': 0,\n",
    "    'no_tumor' : 1,\n",
    "    'meningioma_tumor': 2,\n",
    "    'pituitary_tumor' : 3\n",
    "\n",
    "\n",
    "}\n",
    "\n",
    "\n",
    "'''"
   ]
  }
 ],
 "metadata": {
  "kernelspec": {
   "display_name": "Python 3.10.4 64-bit",
   "language": "python",
   "name": "python3"
  },
  "language_info": {
   "codemirror_mode": {
    "name": "ipython",
    "version": 3
   },
   "file_extension": ".py",
   "mimetype": "text/x-python",
   "name": "python",
   "nbconvert_exporter": "python",
   "pygments_lexer": "ipython3",
   "version": "3.10.4"
  },
  "orig_nbformat": 4,
  "vscode": {
   "interpreter": {
    "hash": "2ab03924b0a6784d01348d8b7d05bd4ac764873ded1b07aeb381424a5f34fd06"
   }
  }
 },
 "nbformat": 4,
 "nbformat_minor": 2
}
