{
 "cells": [
  {
   "cell_type": "markdown",
   "metadata": {},
   "source": [
    "# Brain tumor detection using tensorflow and opencv"
   ]
  },
  {
   "cell_type": "code",
   "execution_count": 70,
   "metadata": {},
   "outputs": [],
   "source": [
    "# importing libraries\n",
    "\n",
    "import os\n",
    "import tensorflow as tf\n",
    "from keras import layers\n",
    "from keras import Model\n",
    "from keras.applications import InceptionV3\n",
    "import numpy as np\n",
    "import cv2\n",
    "from tqdm import tqdm\n",
    "from sklearn.model_selection import train_test_split"
   ]
  },
  {
   "cell_type": "code",
   "execution_count": 71,
   "metadata": {},
   "outputs": [],
   "source": [
    "# saving the location of the base directory\n",
    "\n",
    "base_dir = r\"C:\\Users\\91976\\Desktop\\programming\\AI and Ml\\projects\\survival predicton\\Tumor\""
   ]
  },
  {
   "cell_type": "code",
   "execution_count": 72,
   "metadata": {},
   "outputs": [],
   "source": [
    "# storing the location of the training  and testing directories \n",
    "\n",
    "test_dir = f'{base_dir}\\images\\Testing'\n",
    "train_dir = f\"{base_dir}\\images\\Training\"\n",
    "\n",
    "train_glioma_tumor_dir = f'{train_dir}\\glioma_tumor'\n",
    "train_meningioma_tumor_dir = f'{train_dir}\\meningioma_tumor'\n",
    "train_no_tumor_dir = fr'{train_dir}\\no_tumor'\n",
    "train_pituitary_tumor_dir = f'{train_dir}\\pituitary_tumor'\n",
    "\n",
    "\n",
    "test_glioma_tumor_dir = f'{test_dir}\\glioma_tumor'\n",
    "test_meningioma_tumor_dir = f'{test_dir}\\meningioma_tumor'\n",
    "test_no_tumor_dir = fr\"{test_dir}\\no_tumor\"\n",
    "test_pituitary_tumor_dir = f'{test_dir}\\pituitary_tumor'\n",
    "\n"
   ]
  },
  {
   "cell_type": "code",
   "execution_count": 73,
   "metadata": {},
   "outputs": [
    {
     "name": "stderr",
     "output_type": "stream",
     "text": [
      "100%|██████████| 826/826 [00:02<00:00, 278.78it/s]\n",
      "100%|██████████| 395/395 [00:01<00:00, 352.44it/s]\n",
      "100%|██████████| 822/822 [00:02<00:00, 305.74it/s]\n",
      "100%|██████████| 827/827 [00:02<00:00, 287.34it/s]\n",
      "100%|██████████| 100/100 [00:00<00:00, 317.17it/s]\n",
      "100%|██████████| 105/105 [00:00<00:00, 558.22it/s]\n",
      "100%|██████████| 115/115 [00:00<00:00, 425.39it/s]\n",
      "100%|██████████| 74/74 [00:00<00:00, 158.31it/s]\n"
     ]
    },
    {
     "name": "stdout",
     "output_type": "stream",
     "text": [
      "(3264, 224, 224, 3)\n"
     ]
    }
   ],
   "source": [
    "# using opencv to load images and resizing grayscale images to rgb and labeling the images\n",
    "\n",
    "\n",
    "from keras.preprocessing.image import ImageDataGenerator\n",
    "\n",
    "labels = ['glioma_tumor','no_tumor','meningioma_tumor','pituitary_tumor']\n",
    "\n",
    "\n",
    "X_train = []\n",
    "y_train = []\n",
    "\n",
    "\n",
    "\n",
    "image_size = 224\n",
    "for i in labels:\n",
    "    folderPath = f\"{train_dir}\\{i}\"\n",
    "    for j in tqdm(os.listdir(folderPath)):\n",
    "        img = cv2.imread(os.path.join(folderPath,j))\n",
    "        img = cv2.resize(img,(image_size, image_size))\n",
    "        X_train.append(img)\n",
    "        y_train.append(i)\n",
    "       \n",
    "for i in labels:\n",
    "    folderPath = f\"{test_dir}\\{i}\"\n",
    "    for j in tqdm(os.listdir(folderPath)):\n",
    "        img = cv2.imread(os.path.join(folderPath,j))\n",
    "        img = cv2.resize(img,(image_size,image_size))\n",
    "        X_train.append(img)\n",
    "        y_train.append(i)\n",
    "\n",
    "\n",
    "        \n",
    "X_train = np.array(X_train)\n",
    "y_train = np.array(y_train)\n",
    "\n",
    "print(X_train.shape)"
   ]
  },
  {
   "cell_type": "code",
   "execution_count": 74,
   "metadata": {},
   "outputs": [
    {
     "name": "stdout",
     "output_type": "stream",
     "text": [
      "(327, 224, 224, 3)\n",
      "(2937, 224, 224, 3)\n",
      "(2937, 4)\n",
      "(327, 4)\n"
     ]
    }
   ],
   "source": [
    "# spittting the data into test and train for validation\n",
    "\n",
    "X_train,X_test,y_train,y_test = train_test_split(X_train,y_train, test_size=0.1,random_state=101)\n",
    "\n",
    "\n",
    "y_train_new = []\n",
    "for i in y_train:\n",
    "    y_train_new.append(labels.index(i))\n",
    "y_train = y_train_new\n",
    "y_train = tf.keras.utils.to_categorical(y_train)\n",
    "\n",
    "\n",
    "y_test_new = []\n",
    "for i in y_test:\n",
    "    y_test_new.append(labels.index(i))\n",
    "y_test = y_test_new\n",
    "y_test = tf.keras.utils.to_categorical(y_test)\n",
    "\n",
    "\n",
    "\n",
    "print(X_test.shape)\n",
    "print(X_train.shape)\n",
    "print(y_train.shape)\n",
    "print(y_test.shape)\n",
    "\n"
   ]
  },
  {
   "cell_type": "markdown",
   "metadata": {},
   "source": [
    "# importing pre trained model InceptionV3"
   ]
  },
  {
   "cell_type": "code",
   "execution_count": 75,
   "metadata": {},
   "outputs": [],
   "source": [
    "\n",
    "\n",
    "pre_model = InceptionV3(\n",
    "        input_shape=(224,224,3),\n",
    "        weights='imagenet',   \n",
    "        include_top=False,\n",
    "            \n",
    ")\n",
    "\n",
    "'''\n",
    "pre_model = VGG16(\n",
    "        input_shape=(224,224,3),\n",
    "        weights='imagenet',\n",
    "        include_top=False,\n",
    "        pooling='max'\n",
    ")\n",
    "'''\n",
    "\n",
    "# freezing the layers \n",
    "\n",
    "for layers in pre_model.layers:\n",
    "    layers.trainable=False\n",
    "\n",
    "\n",
    "# using the mixed7 layer for output of inceptionv3\n",
    "\n",
    "last_layer = pre_model.get_layer('mixed7')\n",
    "last_output = last_layer.output\n",
    "  "
   ]
  },
  {
   "cell_type": "markdown",
   "metadata": {},
   "source": [
    "# Model formation and training"
   ]
  },
  {
   "cell_type": "code",
   "execution_count": 76,
   "metadata": {},
   "outputs": [],
   "source": [
    "from keras.optimizers import Adam,RMSprop\n",
    "\n",
    "\n",
    "x = tf.keras.layers.Flatten()(last_output)\n",
    "x = tf.keras.layers.Dense(128,activation='relu')(x)\n",
    "x = tf.keras.layers.BatchNormalization()(x)\n",
    "x = tf.keras.layers.Dense(128,activation='relu')(x)\n",
    "x = tf.keras.layers.BatchNormalization()(x)\n",
    "x = tf.keras.layers.Dense(128,activation='relu')(x)\n",
    "x = tf.keras.layers.BatchNormalization()(x)\n",
    "output = tf.keras.layers.Dense(4,activation='softmax')(x)\n",
    "\n",
    "model = Model(pre_model.input,output)\n",
    "\n",
    "model.compile(optimizer=Adam(learning_rate=0.001),\n",
    "                loss = 'categorical_crossentropy',\n",
    "                metrics=['accuracy']\n",
    ")"
   ]
  },
  {
   "cell_type": "code",
   "execution_count": 77,
   "metadata": {},
   "outputs": [],
   "source": [
    "# stopping the training as soon as the val_accuracy reaches 0.95\n",
    "\n",
    "\n",
    "class myCallbacks(tf.keras.callbacks.Callback):\n",
    "    def on_epoch_end(self,epoch,logs={}):\n",
    "        if(logs.get('val_accuracy')>0.95):\n",
    "            self.model.stop_training = True"
   ]
  },
  {
   "cell_type": "markdown",
   "metadata": {},
   "source": [
    "training the model"
   ]
  },
  {
   "cell_type": "code",
   "execution_count": 78,
   "metadata": {},
   "outputs": [
    {
     "name": "stdout",
     "output_type": "stream",
     "text": [
      "Epoch 1/10\n",
      "91/91 [==============================] - 106s 1s/step - loss: 0.7146 - accuracy: 0.7303 - val_loss: 0.6676 - val_accuracy: 0.6972\n",
      "Epoch 2/10\n",
      "91/91 [==============================] - 89s 968ms/step - loss: 0.3581 - accuracy: 0.8662 - val_loss: 0.2976 - val_accuracy: 0.8869\n",
      "Epoch 3/10\n",
      "91/91 [==============================] - 89s 967ms/step - loss: 0.2651 - accuracy: 0.9043 - val_loss: 0.2663 - val_accuracy: 0.8930\n",
      "Epoch 4/10\n",
      "91/91 [==============================] - 88s 960ms/step - loss: 0.1875 - accuracy: 0.9309 - val_loss: 0.3819 - val_accuracy: 0.8869\n",
      "Epoch 5/10\n",
      "91/91 [==============================] - 85s 918ms/step - loss: 0.1721 - accuracy: 0.9414 - val_loss: 0.1851 - val_accuracy: 0.9297\n",
      "Epoch 6/10\n",
      "91/91 [==============================] - 106s 1s/step - loss: 0.1374 - accuracy: 0.9544 - val_loss: 0.2178 - val_accuracy: 0.9266\n",
      "Epoch 7/10\n",
      "91/91 [==============================] - 96s 1s/step - loss: 0.1182 - accuracy: 0.9591 - val_loss: 0.2777 - val_accuracy: 0.8899\n",
      "Epoch 8/10\n",
      "91/91 [==============================] - 95s 1s/step - loss: 0.1106 - accuracy: 0.9636 - val_loss: 0.1943 - val_accuracy: 0.9327\n",
      "Epoch 9/10\n",
      "91/91 [==============================] - 99s 1s/step - loss: 0.0945 - accuracy: 0.9680 - val_loss: 0.3460 - val_accuracy: 0.8624\n",
      "Epoch 10/10\n",
      "91/91 [==============================] - 96s 1s/step - loss: 0.1162 - accuracy: 0.9619 - val_loss: 0.2185 - val_accuracy: 0.9297\n"
     ]
    },
    {
     "data": {
      "text/plain": [
       "<keras.callbacks.History at 0x26d203505b0>"
      ]
     },
     "execution_count": 78,
     "metadata": {},
     "output_type": "execute_result"
    }
   ],
   "source": [
    "\n",
    "\n",
    "\n",
    "callback = myCallbacks()\n",
    "\n",
    "datagen = ImageDataGenerator(\n",
    "        rescale=1. / 255,\n",
    "        shear_range=0.2,\n",
    "        zoom_range=0.2,\n",
    "        horizontal_flip=True\n",
    ")\n",
    "\n",
    "datagen_val = ImageDataGenerator(rescale=1./255)\n",
    "\n",
    " \n",
    "\n",
    "model.fit(\n",
    "\n",
    "    datagen.flow(X_train,y_train, batch_size=32),\n",
    "    epochs=10,\n",
    "    validation_data=datagen_val.flow(X_test,y_test),\n",
    "    steps_per_epoch = len(X_train) / 32 ,\n",
    "    callbacks=[callback]\n",
    ")"
   ]
  },
  {
   "cell_type": "markdown",
   "metadata": {},
   "source": [
    "# Saving the model"
   ]
  },
  {
   "cell_type": "code",
   "execution_count": 79,
   "metadata": {},
   "outputs": [],
   "source": [
    "#model.save('tumor_cv.h5')"
   ]
  },
  {
   "cell_type": "code",
   "execution_count": 80,
   "metadata": {},
   "outputs": [
    {
     "data": {
      "text/plain": [
       "'\\ntf_model_file = \"tumor_cv.tflite\"\\ntf_lite_converter = tf.lite.TFLiteConverter.from_keras_model(model)\\ntflite_model = tf_lite_converter.convert()\\n\\nwith open(tf_model_file,\\'wb\\') as file:\\n    file.write(tflite_model)\\n'"
      ]
     },
     "execution_count": 80,
     "metadata": {},
     "output_type": "execute_result"
    }
   ],
   "source": [
    "\n",
    "'''\n",
    "tf_model_file = \"tumor_cv.tflite\"\n",
    "tf_lite_converter = tf.lite.TFLiteConverter.from_keras_model(model)\n",
    "tflite_model = tf_lite_converter.convert()\n",
    "\n",
    "with open(tf_model_file,'wb') as file:\n",
    "    file.write(tflite_model)\n",
    "'''"
   ]
  },
  {
   "cell_type": "markdown",
   "metadata": {},
   "source": [
    "Testing"
   ]
  },
  {
   "cell_type": "code",
   "execution_count": 81,
   "metadata": {},
   "outputs": [],
   "source": [
    "t = []\n",
    "\n",
    "img = cv2.imread(r\"C:\\Users\\91976\\Desktop\\programming\\AI and Ml\\projects\\survival predicton\\Tumor\\images\\Testing\\pituitary_tumor\\image(1).jpg\")\n",
    "\n",
    "img = cv2.resize(img,(224,224))\n",
    "t.append(img)\n",
    "\n",
    "t_p = np.array(t)"
   ]
  },
  {
   "cell_type": "code",
   "execution_count": 82,
   "metadata": {},
   "outputs": [
    {
     "name": "stdout",
     "output_type": "stream",
     "text": [
      "1/1 [==============================] - 2s 2s/step\n"
     ]
    }
   ],
   "source": [
    "t_p = t_p / 255.0\n",
    "pred = model.predict(t_p)"
   ]
  },
  {
   "cell_type": "code",
   "execution_count": 83,
   "metadata": {},
   "outputs": [
    {
     "name": "stdout",
     "output_type": "stream",
     "text": [
      "[[1.8080780e-03 1.8929919e-05 8.4695005e-04 9.9732602e-01]]\n"
     ]
    }
   ],
   "source": [
    "print(pred)\n",
    "predictions = np.argmax(pred,1)\n"
   ]
  },
  {
   "cell_type": "code",
   "execution_count": 84,
   "metadata": {},
   "outputs": [
    {
     "data": {
      "text/plain": [
       "\"\\nlabels = {\\n\\n    'glioma_tumor': 0,\\n    'no_tumor' : 1,\\n    'meningioma_tumor': 2,\\n    'pituitary_tumor' : 3\\n\\n\\n}\\n\\n\\n\""
      ]
     },
     "execution_count": 84,
     "metadata": {},
     "output_type": "execute_result"
    }
   ],
   "source": [
    "'''\n",
    "labels = {\n",
    "\n",
    "    'glioma_tumor': 0,\n",
    "    'no_tumor' : 1,\n",
    "    'meningioma_tumor': 2,\n",
    "    'pituitary_tumor' : 3\n",
    "\n",
    "\n",
    "}\n",
    "\n",
    "\n",
    "'''"
   ]
  }
 ],
 "metadata": {
  "kernelspec": {
   "display_name": "Python 3.10.4 64-bit",
   "language": "python",
   "name": "python3"
  },
  "language_info": {
   "codemirror_mode": {
    "name": "ipython",
    "version": 3
   },
   "file_extension": ".py",
   "mimetype": "text/x-python",
   "name": "python",
   "nbconvert_exporter": "python",
   "pygments_lexer": "ipython3",
   "version": "3.10.4"
  },
  "orig_nbformat": 4,
  "vscode": {
   "interpreter": {
    "hash": "2ab03924b0a6784d01348d8b7d05bd4ac764873ded1b07aeb381424a5f34fd06"
   }
  }
 },
 "nbformat": 4,
 "nbformat_minor": 2
}
